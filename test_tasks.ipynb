{
 "cells": [
  {
   "cell_type": "markdown",
   "metadata": {},
   "source": [
    "## Выполнил задание Омаров Руслан\n",
    "Идея для решения [задачи](https://www.dropbox.com/s/0n1feahxmhsviba/keentools_task_summer_2020.pdf): любая окружность как кривая второго порядка однозначно задается тремя точками. Таким образом, если мы произвольно выберем из всех тех точек, которые пришли на вход, хотя бы 5 из них (рассмотрим при M = 3), то по принципу Дирихле получим, что как минимум одна тройка из этих 5 точек будет задавать одну из искомых окружностей. Мы можем составить уравнение окружности по этим 3 точкам и пройтись по всем точкам и проверить лежат ли эти точки на окружности. Далее процедуру можно продолжить рекурсивно, зная, что уже остались точки только с 2 окружностей. "
   ]
  },
  {
   "cell_type": "code",
   "execution_count": 1,
   "metadata": {},
   "outputs": [],
   "source": [
    "import numpy as np \n",
    "import random\n",
    "import matplotlib.pyplot as plt\n",
    "import itertools\n",
    "from collections import Counter\n",
    "\n",
    "\n",
    "\n",
    "plt.rcParams[\"axes.labelsize\"] = 16.\n",
    "plt.rcParams[\"xtick.labelsize\"] = 14.\n",
    "plt.rcParams[\"ytick.labelsize\"] = 14.\n",
    "plt.rcParams[\"legend.fontsize\"] = 12.\n",
    "plt.rcParams[\"figure.figsize\"] = [8., 5.]"
   ]
  },
  {
   "cell_type": "markdown",
   "metadata": {},
   "source": [
    "Сгенерируем тестовые данные для задачи."
   ]
  },
  {
   "cell_type": "code",
   "execution_count": 2,
   "metadata": {},
   "outputs": [
    {
     "data": {
      "image/png": "[encoded data removed]",
      "text/plain": [
       "<Figure size 504x432 with 1 Axes>"
      ]
     },
     "metadata": {
      "needs_background": "light"
     },
     "output_type": "display_data"
    }
   ],
   "source": [
    "num_samples = 3333\n",
    "\n",
    "theta = np.linspace(0, 2 * np.pi, num_samples)\n",
    "a1, b1 = 1 * np.cos(theta), 1 * np.sin(theta)\n",
    "a2, b2 = 1 * np.cos(theta), 1 * np.sin(theta)\n",
    "a3, b3 = 1 * np.cos(theta), 1 * np.sin(theta)\n",
    "\n",
    "a1 = a1 - 3\n",
    "b1 = b1 - 3\n",
    "\n",
    "a2 = a2 - 3\n",
    "b2 = b2 + 3\n",
    "\n",
    "\n",
    "plt.figure(figsize=(7,6))\n",
    "plt.plot(a1, b1, linestyle='-', linewidth=2, label='Circle1')\n",
    "plt.plot(a2, b2, linestyle='-', linewidth=2, label='Circle2')\n",
    "plt.plot(a3, b3, linestyle='-', linewidth=2, label='Circle3')\n",
    "\n",
    "plt.ylim([-7,7])\n",
    "plt.xlim([-7,7])\n",
    "plt.grid()\n",
    "plt.legend(loc='upper right')\n",
    "plt.show(block=True)"
   ]
  },
  {
   "cell_type": "markdown",
   "metadata": {},
   "source": [
    "Далее идут функции для построения уравнения окружности (точнее, для получения центра и радиуса) и для проверки принадлежит ли точка окружности."
   ]
  },
  {
   "cell_type": "code",
   "execution_count": 3,
   "metadata": {},
   "outputs": [],
   "source": [
    "def get_circle(p1, p2, p3):\n",
    "    x1, y1 = p1\n",
    "    x2, y2 = p2\n",
    "    x3, y3 = p3\n",
    "    b = (x1 ** 2 + y1 ** 2) * (y2 - y3) + (x2 ** 2 + y2 ** 2) * (y3 - y1) + (x3 ** 2 + y3 ** 2) * (y1 - y2)\n",
    "    c = (x1 ** 2 + y1 ** 2) * (x3 - x2) + (x2 ** 2 + y2 ** 2) * (x1 - x3) + (x3 ** 2 + y3 ** 2) * (x2 - x1)\n",
    "    a = x1 * (y2 - y3) - y1 * (x2 - x3) + x2 * y3 - x3 * y2\n",
    "    \n",
    "    x = b / (2 * a)\n",
    "    y = c / (2 * a)\n",
    "    \n",
    "    r2 = (x - x2) ** 2 + (y - y2) ** 2\n",
    "    return x, y, r2\n",
    "\n",
    "\n",
    "def check_if_on_circle(a, b, r2, x, y):\n",
    "    return abs((x - a) ** 2 + (y - b) ** 2 - r2)"
   ]
  },
  {
   "cell_type": "markdown",
   "metadata": {},
   "source": [
    "Сама рекурсивная функция для решения задачи."
   ]
  },
  {
   "cell_type": "code",
   "execution_count": 65,
   "metadata": {},
   "outputs": [],
   "source": [
    "def solve(ls, ans, num):\n",
    "    res = all(ans)\n",
    "    if res:\n",
    "        return res, ans\n",
    "    five_points = []\n",
    "    for i in range(len(ans)):\n",
    "        if ans[i] is None:\n",
    "            five_points.append(ls[i])\n",
    "        if len(five_points) == 5:\n",
    "            break\n",
    "    for comb in itertools.combinations(five_points, 3):\n",
    "        a, b, r2 = get_circle(*comb)\n",
    "        for i in range(len(ls)):\n",
    "            if abs(check_if_on_circle(a, b, r2, ls[i][0], ls[i][1])) < 1e-2:\n",
    "                ans[i] = num\n",
    "        res, arr = solve(ls, ans[:], num + 1)\n",
    "        if res:\n",
    "            return res, arr\n",
    "    "
   ]
  },
  {
   "cell_type": "markdown",
   "metadata": {},
   "source": [
    "Код, который считвает данные и выводит ответ в рамках условия задачи."
   ]
  },
  {
   "cell_type": "code",
   "execution_count": 66,
   "metadata": {},
   "outputs": [
    {
     "name": "stdout",
     "output_type": "stream",
     "text": [
      "3 1\n",
      "0 0\n",
      "0 1\n",
      "1 0\n",
      "1\n",
      "1\n",
      "1\n"
     ]
    }
   ],
   "source": [
    "n, m = list(map(int, input().split()))\n",
    "ls = []\n",
    "for i in range(n):\n",
    "    x, y = list(map(float, input().split()))\n",
    "    ls.append((x, y))\n",
    "\n",
    "if len(ls) <= 3 or m == 1:\n",
    "    for i in range(n):\n",
    "        print(1)\n",
    "else:\n",
    "    arr = [(None, float(\"inf\")) for _ in range(n)]\n",
    "    _, ans = solve(ls, arr, 1)\n",
    "    ans = [num for num, _ in ans]\n",
    "    d = {key: val for val, key in enumerate(Counter(ans).keys(), 1)}\n",
    "    for i in range(n):\n",
    "        ans[i] = d[ans[i]]\n",
    "\n",
    "    for item in ans:\n",
    "        print(item)\n"
   ]
  },
  {
   "cell_type": "markdown",
   "metadata": {},
   "source": [
    "### Тесты\n",
    "Возьмем те данные, которые использовали для построения иллюстрации. Тесты проведены при максимальных возможных $N$ и при разичных $M$. Также, рассмотрены разные взаимные положения окружностей.\n",
    "\n",
    "В тестах могут получаться странные номера окружностей, но эта особенность учтена в ячейке выше."
   ]
  },
  {
   "cell_type": "markdown",
   "metadata": {},
   "source": [
    "### Test 1\n",
    "\n",
    "Две из 3 окружностей близко расположены"
   ]
  },
  {
   "cell_type": "code",
   "execution_count": 67,
   "metadata": {},
   "outputs": [
    {
     "data": {
      "image/png": "[encoded data removed]",
      "text/plain": [
       "<Figure size 504x432 with 1 Axes>"
      ]
     },
     "metadata": {
      "needs_background": "light"
     },
     "output_type": "display_data"
    }
   ],
   "source": [
    "num_samples = 3333\n",
    "\n",
    "theta = np.linspace(0, 2 * np.pi, num_samples)\n",
    "a1, b1 = 1 * np.cos(theta), 1 * np.sin(theta)\n",
    "a2, b2 = 1 * np.cos(theta), 1 * np.sin(theta)\n",
    "a3, b3 = 1 * np.cos(theta), 1 * np.sin(theta)\n",
    "\n",
    "a1 = a1 - 3\n",
    "b1 = b1 - 3\n",
    "\n",
    "a2 = a2 - 2.1\n",
    "\n",
    "\n",
    "plt.figure(figsize=(7,6))\n",
    "plt.plot(a1, b1, linestyle='-', linewidth=2, label='Circle1')\n",
    "plt.plot(a2, b2, linestyle='-', linewidth=2, label='Circle2')\n",
    "plt.plot(a3, b3, linestyle='-', linewidth=2, label='Circle3')\n",
    "\n",
    "plt.ylim([-7,7])\n",
    "plt.xlim([-7,7])\n",
    "plt.grid()\n",
    "plt.legend(loc='upper right')\n",
    "plt.show(block=True)"
   ]
  },
  {
   "cell_type": "code",
   "execution_count": 71,
   "metadata": {},
   "outputs": [
    {
     "data": {
      "text/plain": [
       "Counter({4: 3333, 11: 3333, 12: 3333})"
      ]
     },
     "execution_count": 71,
     "metadata": {},
     "output_type": "execute_result"
    }
   ],
   "source": [
    "ls = []\n",
    "for x, y in zip(a1, b1):\n",
    "    ls.append(((x, y), 1))\n",
    "\n",
    "for x, y in zip(a2, b2):\n",
    "    ls.append(((x, y), 2))\n",
    "\n",
    "for x, y in zip(a3, b3):\n",
    "    ls.append(((x, y), 3))\n",
    "\n",
    "ans = [None for _ in range(len(ls))]\n",
    "random.shuffle(ls)\n",
    "inp_arr = [item for item, i in ls]\n",
    "_, res = solve(inp_arr, ans, 1)\n",
    "cc = Counter(res)\n",
    "cc"
   ]
  },
  {
   "cell_type": "code",
   "execution_count": 72,
   "metadata": {},
   "outputs": [],
   "source": [
    "d = {key: val for val, key in enumerate(Counter(res).keys(), 1)}\n",
    "for i in range(len(ls)):\n",
    "    res[i] = d[res[i]]\n",
    "\n",
    "assert len(Counter([(res[i], ls[i][1]) for i in range(len(ls))]).keys()) == 3"
   ]
  },
  {
   "cell_type": "markdown",
   "metadata": {},
   "source": [
    "### Test 2\n",
    "\n",
    "Все 3 окружности далеко"
   ]
  },
  {
   "cell_type": "code",
   "execution_count": 73,
   "metadata": {},
   "outputs": [
    {
     "data": {
      "image/png": "[encoded data removed]",
      "text/plain": [
       "<Figure size 504x432 with 1 Axes>"
      ]
     },
     "metadata": {
      "needs_background": "light"
     },
     "output_type": "display_data"
    }
   ],
   "source": [
    "num_samples = 3333\n",
    "\n",
    "theta = np.linspace(0, 2 * np.pi, num_samples)\n",
    "a1, b1 = 1 * np.cos(theta), 1 * np.sin(theta)\n",
    "a2, b2 = 1 * np.cos(theta), 1 * np.sin(theta)\n",
    "a3, b3 = 1 * np.cos(theta), 1 * np.sin(theta)\n",
    "\n",
    "a1 = a1 - 3\n",
    "b1 = b1 - 3\n",
    "\n",
    "a2 = a2 - 3\n",
    "b2 = b2 + 3\n",
    "\n",
    "\n",
    "plt.figure(figsize=(7,6))\n",
    "plt.plot(a1, b1, linestyle='-', linewidth=2, label='Circle1')\n",
    "plt.plot(a2, b2, linestyle='-', linewidth=2, label='Circle2')\n",
    "plt.plot(a3, b3, linestyle='-', linewidth=2, label='Circle3')\n",
    "\n",
    "plt.ylim([-7,7])\n",
    "plt.xlim([-7,7])\n",
    "plt.grid()\n",
    "plt.legend(loc='upper right')\n",
    "plt.show(block=True)"
   ]
  },
  {
   "cell_type": "code",
   "execution_count": 75,
   "metadata": {},
   "outputs": [
    {
     "data": {
      "text/plain": [
       "Counter({4: 3333, 8: 3333, 7: 3333})"
      ]
     },
     "execution_count": 75,
     "metadata": {},
     "output_type": "execute_result"
    }
   ],
   "source": [
    "ls = []\n",
    "for x, y in zip(a1, b1):\n",
    "    ls.append(((x, y), 1))\n",
    "\n",
    "for x, y in zip(a2, b2):\n",
    "    ls.append(((x, y), 2))\n",
    "\n",
    "for x, y in zip(a3, b3):\n",
    "    ls.append(((x, y), 3))\n",
    "\n",
    "ans = [None for _ in range(len(ls))]\n",
    "random.shuffle(ls)\n",
    "inp_arr = [item for item, i in ls]\n",
    "_, res = solve(inp_arr, ans, 1)\n",
    "cc = Counter(res)\n",
    "cc"
   ]
  },
  {
   "cell_type": "code",
   "execution_count": 76,
   "metadata": {},
   "outputs": [],
   "source": [
    "d = {key: val for val, key in enumerate(Counter(res).keys(), 1)}\n",
    "for i in range(len(ls)):\n",
    "    res[i] = d[res[i]]\n",
    "\n",
    "assert len(Counter([(res[i], ls[i][1]) for i in range(len(ls))]).keys()) == 3"
   ]
  },
  {
   "cell_type": "markdown",
   "metadata": {},
   "source": [
    "### Test 3\n",
    "Две близкие окружности\n"
   ]
  },
  {
   "cell_type": "code",
   "execution_count": 77,
   "metadata": {},
   "outputs": [
    {
     "data": {
      "image/png": "[encoded data removed]",
      "text/plain": [
       "<Figure size 504x432 with 1 Axes>"
      ]
     },
     "metadata": {
      "needs_background": "light"
     },
     "output_type": "display_data"
    }
   ],
   "source": [
    "num_samples = 5000\n",
    "\n",
    "theta = np.linspace(0, 2 * np.pi, num_samples)\n",
    "a1, b1 = 1 * np.cos(theta), 1 * np.sin(theta)\n",
    "a2, b2 = 1 * np.cos(theta), 1 * np.sin(theta)\n",
    "\n",
    "\n",
    "a2 = a2 - 2.1\n",
    "\n",
    "\n",
    "\n",
    "plt.figure(figsize=(7,6))\n",
    "plt.plot(a1, b1, linestyle='-', linewidth=2, label='Circle1')\n",
    "plt.plot(a2, b2, linestyle='-', linewidth=2, label='Circle2')\n",
    "\n",
    "plt.ylim([-7,7])\n",
    "plt.xlim([-7,7])\n",
    "plt.grid()\n",
    "plt.legend(loc='upper right')\n",
    "plt.show(block=True)"
   ]
  },
  {
   "cell_type": "code",
   "execution_count": 78,
   "metadata": {},
   "outputs": [
    {
     "data": {
      "text/plain": [
       "Counter({6: 5000, 7: 5000})"
      ]
     },
     "execution_count": 78,
     "metadata": {},
     "output_type": "execute_result"
    }
   ],
   "source": [
    "ls = []\n",
    "for x, y in zip(a1, b1):\n",
    "    ls.append(((x, y), 1))\n",
    "\n",
    "for x, y in zip(a2, b2):\n",
    "    ls.append(((x, y), 2))\n",
    "\n",
    "ans = [None for _ in range(len(ls))]\n",
    "random.shuffle(ls)\n",
    "inp_arr = [item for item, i in ls]\n",
    "_, res = solve(inp_arr, ans, 1)\n",
    "cc = Counter(res)\n",
    "cc"
   ]
  },
  {
   "cell_type": "code",
   "execution_count": 79,
   "metadata": {},
   "outputs": [],
   "source": [
    "d = {key: val for val, key in enumerate(Counter(res).keys(), 1)}\n",
    "for i in range(len(ls)):\n",
    "    res[i] = d[res[i]]\n",
    "\n",
    "assert len(Counter([(res[i], ls[i][1]) for i in range(len(ls))]).keys()) == 2"
   ]
  }
 ],
 "metadata": {
  "kernelspec": {
   "display_name": "Python 3",
   "language": "python",
   "name": "python3"
  },
  "language_info": {
   "codemirror_mode": {
    "name": "ipython",
    "version": 3
   },
   "file_extension": ".py",
   "mimetype": "text/x-python",
   "name": "python",
   "nbconvert_exporter": "python",
   "pygments_lexer": "ipython3",
   "version": "3.6.9"
  }
 },
 "nbformat": 4,
 "nbformat_minor": 2
}
